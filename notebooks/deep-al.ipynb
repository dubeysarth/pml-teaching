{
 "cells": [
  {
   "cell_type": "code",
   "execution_count": 40,
   "id": "8b109a2c",
   "metadata": {},
   "outputs": [],
   "source": [
    "import pandas as pd\n",
    "import matplotlib.pyplot as plt\n",
    "%matplotlib inline\n",
    "# Retina display\n",
    "%config InlineBackend.figure_format = 'retina'\n",
    "from tqdm import tqdm"
   ]
  },
  {
   "cell_type": "code",
   "execution_count": 2,
   "id": "d5552207",
   "metadata": {},
   "outputs": [],
   "source": [
    "from tueplots import bundles\n",
    "plt.rcParams.update(bundles.beamer_moml())\n",
    "\n",
    "# Also add despine to the bundle using rcParams\n",
    "plt.rcParams['axes.spines.right'] = False\n",
    "plt.rcParams['axes.spines.top'] = False\n",
    "\n",
    "# Increase font size to match Beamer template\n",
    "plt.rcParams['font.size'] = 12\n",
    "# Make background transparent\n",
    "plt.rcParams['figure.facecolor'] = 'none'"
   ]
  },
  {
   "cell_type": "code",
   "execution_count": 10,
   "id": "cb3d09c1",
   "metadata": {},
   "outputs": [],
   "source": [
    "import os\n",
    "# Set enviornment variable TORCH_HOME to specify where to download pretrained models\n",
    "os.environ['TORCH_HOME'] = os.path.expanduser('~/TORCH_HOME')"
   ]
  },
  {
   "cell_type": "code",
   "execution_count": 46,
   "id": "2aeefa20",
   "metadata": {},
   "outputs": [],
   "source": [
    "import torchvision.transforms as transforms\n",
    "import torch\n",
    "\n",
    "transform = transforms.Compose(\n",
    "    [transforms.ToTensor(),\n",
    "     transforms.Normalize((0.5, 0.5, 0.5), (0.5, 0.5, 0.5))])"
   ]
  },
  {
   "cell_type": "code",
   "execution_count": 32,
   "id": "56e1e6ca",
   "metadata": {},
   "outputs": [
    {
     "name": "stdout",
     "output_type": "stream",
     "text": [
      "Files already downloaded and verified\n"
     ]
    }
   ],
   "source": [
    "# Download CIFAIR10 dataset in ~/TORCH_HOME/datasets/CIFAR10\n",
    "from torchvision.datasets import CIFAR10\n",
    "\n",
    "ds_cifar = CIFAR10(root=os.path.expanduser('~/TORCH_HOME/datasets'), \n",
    "                   transform=transform,\n",
    "                   download=True)"
   ]
  },
  {
   "cell_type": "code",
   "execution_count": 33,
   "id": "2fa5dda9",
   "metadata": {},
   "outputs": [
    {
     "data": {
      "text/plain": [
       "Dataset CIFAR10\n",
       "    Number of datapoints: 50000\n",
       "    Root location: /home/nipun.batra/TORCH_HOME/datasets\n",
       "    Split: Train\n",
       "    StandardTransform\n",
       "Transform: Compose(\n",
       "               ToTensor()\n",
       "               Normalize(mean=(0.5, 0.5, 0.5), std=(0.5, 0.5, 0.5))\n",
       "           )"
      ]
     },
     "execution_count": 33,
     "metadata": {},
     "output_type": "execute_result"
    }
   ],
   "source": [
    "ds_cifar"
   ]
  },
  {
   "cell_type": "code",
   "execution_count": 34,
   "id": "09a06165",
   "metadata": {},
   "outputs": [],
   "source": [
    "# Split dataset into train, pool and test\n",
    "# train: 10 images per class\n",
    "# test: 100 images per class\n",
    "# pool: remaining images\n",
    "\n",
    "from torch.utils.data import Subset\n",
    "import numpy as np\n",
    "\n",
    "# Set random seed for reproducibility\n",
    "np.random.seed(42)\n",
    "\n",
    "# Get indices of all images in the dataset\n",
    "indices = np.arange(len(ds_cifar))\n",
    "\n",
    "# Shuffle indices\n",
    "np.random.shuffle(indices)\n",
    "\n",
    "# Split indices into train, pool and test\n",
    "\n",
    "# 10 images per class in train\n",
    "train_indices = []\n",
    "for i in range(10):\n",
    "    train_indices.extend(indices[np.array(ds_cifar.targets) == i][:10])\n",
    "\n",
    "# 100 images per class in test\n",
    "test_indices = []\n",
    "for i in range(10):\n",
    "    test_indices.extend(indices[np.array(ds_cifar.targets) == i][10:110])\n",
    "\n",
    "# Remaining images in pool\n",
    "pool_indices = np.setdiff1d(indices, np.concatenate([train_indices, test_indices]))\n"
   ]
  },
  {
   "cell_type": "code",
   "execution_count": 35,
   "id": "f3aad608",
   "metadata": {},
   "outputs": [
    {
     "data": {
      "text/plain": [
       "(50000,)"
      ]
     },
     "execution_count": 35,
     "metadata": {},
     "output_type": "execute_result"
    }
   ],
   "source": [
    "indices.shape"
   ]
  },
  {
   "cell_type": "code",
   "execution_count": 36,
   "id": "bfcaec2f",
   "metadata": {},
   "outputs": [
    {
     "data": {
      "text/plain": [
       "array([33109, 36480, 21123, 17523,  2530, 27578, 46915,  9801,  9405,\n",
       "        7905])"
      ]
     },
     "execution_count": 36,
     "metadata": {},
     "output_type": "execute_result"
    }
   ],
   "source": [
    "indices[np.array(ds_cifar.targets) == 0][:10]"
   ]
  },
  {
   "cell_type": "code",
   "execution_count": 37,
   "id": "003538ef",
   "metadata": {},
   "outputs": [
    {
     "name": "stdout",
     "output_type": "stream",
     "text": [
      "Number of images in train: 100\n",
      "Number of images in test: 1000\n",
      "Number of images in pool: 48900\n"
     ]
    }
   ],
   "source": [
    "# Print number of images in each set\n",
    "print(f'Number of images in train: {len(train_indices)}')\n",
    "print(f'Number of images in test: {len(test_indices)}')\n",
    "print(f'Number of images in pool: {len(pool_indices)}')"
   ]
  },
  {
   "cell_type": "code",
   "execution_count": 38,
   "id": "a7d4e048",
   "metadata": {},
   "outputs": [],
   "source": [
    "classes = ('plane', 'car', 'bird', 'cat',\n",
    "           'deer', 'dog', 'frog', 'horse', 'ship', 'truck')"
   ]
  },
  {
   "cell_type": "code",
   "execution_count": 43,
   "id": "b2c4fbc0",
   "metadata": {},
   "outputs": [
    {
     "data": {
      "text/plain": [
       "torch.Size([3, 32, 32])"
      ]
     },
     "execution_count": 43,
     "metadata": {},
     "output_type": "execute_result"
    }
   ],
   "source": [
    "# image size\n",
    "ds_cifar[0][0].shape"
   ]
  },
  {
   "cell_type": "code",
   "execution_count": 64,
   "id": "29c65ea0",
   "metadata": {},
   "outputs": [],
   "source": [
    "# Simple CNN model \n",
    "# https://pytorch.org/tutorials/beginner/blitz/cifar10_tutorial.html\n",
    "\n",
    "import torch.nn as nn\n",
    "import torch.nn.functional as F\n",
    "\n",
    "class Featurizer(nn.Module):\n",
    "    def __init__(self):\n",
    "        super().__init__()\n",
    "        self.conv1 = nn.Conv2d(3, 6, 5) # 3 input channels, 6 output channels, 5x5 kernel\n",
    "        self.pool = nn.MaxPool2d(2, 2) # 2x2 max pooling\n",
    "        self.conv2 = nn.Conv2d(6, 16, 5) # 6 input channels, 16 output channels, 5x5 kernel\n",
    "\n",
    "    def forward(self, x):\n",
    "        x = self.pool(F.relu(self.conv1(x))) # conv1 -> relu -> pool\n",
    "        x = self.pool(F.relu(self.conv2(x))) # conv2 -> relu -> pool\n",
    "        x = torch.flatten(x, 1) # flatten all dimensions except batch\n",
    "        return x\n",
    "\n",
    "class Classifier(nn.Module):\n",
    "    def __init__(self):\n",
    "        super().__init__()\n",
    "        self.fc1 = nn.Linear(16 * 5 * 5, 120) # 16 * 5 * 5 input features, 120 output features\n",
    "        self.fc2 = nn.Linear(120, 84) # 120 input features, 84 output features\n",
    "        self.fc3 = nn.Linear(84, 10) # 84 input features, 10 output features\n",
    "\n",
    "    def forward(self, x):\n",
    "        x = F.relu(self.fc1(x)) # fc1 -> relu\n",
    "        x = F.relu(self.fc2(x)) # fc2 -> relu\n",
    "        x = self.fc3(x) # fc3\n",
    "        return x\n",
    "\n",
    "class Net(nn.Module):\n",
    "    def __init__(self):\n",
    "        super().__init__()\n",
    "        self.featurizer = Featurizer()\n",
    "        self.classifier = Classifier()\n",
    "\n",
    "    def forward(self, x):\n",
    "        x = self.featurizer(x)\n",
    "        x = self.classifier(x)\n",
    "        return x\n",
    "\n",
    "net = Net()"
   ]
  },
  {
   "cell_type": "code",
   "execution_count": 65,
   "id": "5da05cc2",
   "metadata": {},
   "outputs": [
    {
     "data": {
      "text/plain": [
       "torch.Size([1, 10])"
      ]
     },
     "execution_count": 65,
     "metadata": {},
     "output_type": "execute_result"
    }
   ],
   "source": [
    "net(torch.randn(1, 3, 32, 32)).shape"
   ]
  },
  {
   "cell_type": "code",
   "execution_count": 68,
   "id": "d0e3a347",
   "metadata": {},
   "outputs": [
    {
     "data": {
      "text/plain": [
       "torch.Size([1, 400])"
      ]
     },
     "execution_count": 68,
     "metadata": {},
     "output_type": "execute_result"
    }
   ],
   "source": [
    "net.featurizer(torch.randn(1, 3, 32, 32)).shape"
   ]
  },
  {
   "cell_type": "code",
   "execution_count": 69,
   "id": "fb64f78e",
   "metadata": {},
   "outputs": [
    {
     "data": {
      "text/plain": [
       "torch.Size([2, 400])"
      ]
     },
     "execution_count": 69,
     "metadata": {},
     "output_type": "execute_result"
    }
   ],
   "source": [
    "net.featurizer(torch.randn(2, 3, 32, 32)).shape"
   ]
  },
  {
   "cell_type": "code",
   "execution_count": 72,
   "id": "97f6fc95",
   "metadata": {},
   "outputs": [
    {
     "ename": "TypeError",
     "evalue": "list indices must be integers or slices, not list",
     "output_type": "error",
     "traceback": [
      "\u001b[0;31m---------------------------------------------------------------------------\u001b[0m",
      "\u001b[0;31mTypeError\u001b[0m                                 Traceback (most recent call last)",
      "\u001b[1;32m/home/nipun.batra/git/pml-teaching/notebooks/deep-al.ipynb Cell 17\u001b[0m line \u001b[0;36m<module>\u001b[0;34m\u001b[0m\n\u001b[0;32m----> <a href='vscode-notebook-cell://ssh-remote%2B10.0.62.168/home/nipun.batra/git/pml-teaching/notebooks/deep-al.ipynb#X65sdnNjb2RlLXJlbW90ZQ%3D%3D?line=0'>1</a>\u001b[0m ds_cifar[train_indices]\n",
      "File \u001b[0;32m~/miniforge3/lib/python3.9/site-packages/torchvision/datasets/cifar.py:111\u001b[0m, in \u001b[0;36mCIFAR10.__getitem__\u001b[0;34m(self, index)\u001b[0m\n\u001b[1;32m    103\u001b[0m \u001b[39mdef\u001b[39;00m \u001b[39m__getitem__\u001b[39m(\u001b[39mself\u001b[39m, index: \u001b[39mint\u001b[39m) \u001b[39m-\u001b[39m\u001b[39m>\u001b[39m Tuple[Any, Any]:\n\u001b[1;32m    104\u001b[0m \u001b[39m    \u001b[39m\u001b[39m\"\"\"\u001b[39;00m\n\u001b[1;32m    105\u001b[0m \u001b[39m    Args:\u001b[39;00m\n\u001b[1;32m    106\u001b[0m \u001b[39m        index (int): Index\u001b[39;00m\n\u001b[0;32m   (...)\u001b[0m\n\u001b[1;32m    109\u001b[0m \u001b[39m        tuple: (image, target) where target is index of the target class.\u001b[39;00m\n\u001b[1;32m    110\u001b[0m \u001b[39m    \"\"\"\u001b[39;00m\n\u001b[0;32m--> 111\u001b[0m     img, target \u001b[39m=\u001b[39m \u001b[39mself\u001b[39m\u001b[39m.\u001b[39mdata[index], \u001b[39mself\u001b[39;49m\u001b[39m.\u001b[39;49mtargets[index]\n\u001b[1;32m    113\u001b[0m     \u001b[39m# doing this so that it is consistent with all other datasets\u001b[39;00m\n\u001b[1;32m    114\u001b[0m     \u001b[39m# to return a PIL Image\u001b[39;00m\n\u001b[1;32m    115\u001b[0m     img \u001b[39m=\u001b[39m Image\u001b[39m.\u001b[39mfromarray(img)\n",
      "\u001b[0;31mTypeError\u001b[0m: list indices must be integers or slices, not list"
     ]
    }
   ],
   "source": [
    "ds_cifar[train_indices]"
   ]
  },
  {
   "cell_type": "code",
   "execution_count": 71,
   "id": "a9f9f326",
   "metadata": {},
   "outputs": [
    {
     "ename": "TypeError",
     "evalue": "list indices must be integers or slices, not list",
     "output_type": "error",
     "traceback": [
      "\u001b[0;31m---------------------------------------------------------------------------\u001b[0m",
      "\u001b[0;31mTypeError\u001b[0m                                 Traceback (most recent call last)",
      "\u001b[1;32m/home/nipun.batra/git/pml-teaching/notebooks/deep-al.ipynb Cell 17\u001b[0m line \u001b[0;36m<module>\u001b[0;34m\u001b[0m\n\u001b[0;32m----> <a href='vscode-notebook-cell://ssh-remote%2B10.0.62.168/home/nipun.batra/git/pml-teaching/notebooks/deep-al.ipynb#X64sdnNjb2RlLXJlbW90ZQ%3D%3D?line=0'>1</a>\u001b[0m net\u001b[39m.\u001b[39mfeaturizer(ds_cifar[train_indices])\u001b[39m.\u001b[39mshape\n",
      "File \u001b[0;32m~/miniforge3/lib/python3.9/site-packages/torchvision/datasets/cifar.py:111\u001b[0m, in \u001b[0;36mCIFAR10.__getitem__\u001b[0;34m(self, index)\u001b[0m\n\u001b[1;32m    103\u001b[0m \u001b[39mdef\u001b[39;00m \u001b[39m__getitem__\u001b[39m(\u001b[39mself\u001b[39m, index: \u001b[39mint\u001b[39m) \u001b[39m-\u001b[39m\u001b[39m>\u001b[39m Tuple[Any, Any]:\n\u001b[1;32m    104\u001b[0m \u001b[39m    \u001b[39m\u001b[39m\"\"\"\u001b[39;00m\n\u001b[1;32m    105\u001b[0m \u001b[39m    Args:\u001b[39;00m\n\u001b[1;32m    106\u001b[0m \u001b[39m        index (int): Index\u001b[39;00m\n\u001b[0;32m   (...)\u001b[0m\n\u001b[1;32m    109\u001b[0m \u001b[39m        tuple: (image, target) where target is index of the target class.\u001b[39;00m\n\u001b[1;32m    110\u001b[0m \u001b[39m    \"\"\"\u001b[39;00m\n\u001b[0;32m--> 111\u001b[0m     img, target \u001b[39m=\u001b[39m \u001b[39mself\u001b[39m\u001b[39m.\u001b[39mdata[index], \u001b[39mself\u001b[39;49m\u001b[39m.\u001b[39;49mtargets[index]\n\u001b[1;32m    113\u001b[0m     \u001b[39m# doing this so that it is consistent with all other datasets\u001b[39;00m\n\u001b[1;32m    114\u001b[0m     \u001b[39m# to return a PIL Image\u001b[39;00m\n\u001b[1;32m    115\u001b[0m     img \u001b[39m=\u001b[39m Image\u001b[39m.\u001b[39mfromarray(img)\n",
      "\u001b[0;31mTypeError\u001b[0m: list indices must be integers or slices, not list"
     ]
    }
   ],
   "source": [
    "net.featurizer(ds_cifar[train_indices]).shape"
   ]
  },
  {
   "cell_type": "code",
   "execution_count": 73,
   "id": "c4e7d4ed",
   "metadata": {},
   "outputs": [
    {
     "name": "stderr",
     "output_type": "stream",
     "text": [
      "100%|██████████| 100/100 [00:08<00:00, 11.84it/s]\n"
     ]
    }
   ],
   "source": [
    "# Plot the embeddings of some train images using t-SNE over the features of the featurizer\n",
    "\n",
    "from sklearn.manifold import TSNE\n",
    "\n",
    "# Get features of all train images\n",
    "with torch.no_grad():\n",
    "    train_features = []\n",
    "    for i in tqdm(range(len(train_indices))):\n",
    "        train_features.append(net.featurizer(ds_cifar[train_indices[i]][0].unsqueeze(0)).detach().numpy())\n",
    "    train_features = np.concatenate(train_features, axis=0)\n",
    "\n",
    "# Get labels of all train images\n",
    "train_labels = np.array(ds_cifar.targets)[train_indices]\n",
    "\n"
   ]
  },
  {
   "cell_type": "code",
   "execution_count": 74,
   "id": "f89d0a79",
   "metadata": {},
   "outputs": [
    {
     "data": {
      "text/html": [
       "<div>\n",
       "<style scoped>\n",
       "    .dataframe tbody tr th:only-of-type {\n",
       "        vertical-align: middle;\n",
       "    }\n",
       "\n",
       "    .dataframe tbody tr th {\n",
       "        vertical-align: top;\n",
       "    }\n",
       "\n",
       "    .dataframe thead th {\n",
       "        text-align: right;\n",
       "    }\n",
       "</style>\n",
       "<table border=\"1\" class=\"dataframe\">\n",
       "  <thead>\n",
       "    <tr style=\"text-align: right;\">\n",
       "      <th></th>\n",
       "      <th>0</th>\n",
       "      <th>1</th>\n",
       "      <th>2</th>\n",
       "      <th>3</th>\n",
       "      <th>4</th>\n",
       "      <th>5</th>\n",
       "      <th>6</th>\n",
       "      <th>7</th>\n",
       "      <th>8</th>\n",
       "      <th>9</th>\n",
       "      <th>...</th>\n",
       "      <th>390</th>\n",
       "      <th>391</th>\n",
       "      <th>392</th>\n",
       "      <th>393</th>\n",
       "      <th>394</th>\n",
       "      <th>395</th>\n",
       "      <th>396</th>\n",
       "      <th>397</th>\n",
       "      <th>398</th>\n",
       "      <th>399</th>\n",
       "    </tr>\n",
       "  </thead>\n",
       "  <tbody>\n",
       "    <tr>\n",
       "      <th>0</th>\n",
       "      <td>0.043069</td>\n",
       "      <td>0.040020</td>\n",
       "      <td>0.039191</td>\n",
       "      <td>0.040317</td>\n",
       "      <td>0.038809</td>\n",
       "      <td>0.061726</td>\n",
       "      <td>0.051463</td>\n",
       "      <td>0.056516</td>\n",
       "      <td>0.063033</td>\n",
       "      <td>0.054073</td>\n",
       "      <td>...</td>\n",
       "      <td>0.159013</td>\n",
       "      <td>0.104357</td>\n",
       "      <td>0.144799</td>\n",
       "      <td>0.156466</td>\n",
       "      <td>0.022028</td>\n",
       "      <td>0.171914</td>\n",
       "      <td>0.000000</td>\n",
       "      <td>0.004060</td>\n",
       "      <td>0.024480</td>\n",
       "      <td>0.014433</td>\n",
       "    </tr>\n",
       "    <tr>\n",
       "      <th>1</th>\n",
       "      <td>0.052658</td>\n",
       "      <td>0.050776</td>\n",
       "      <td>0.060158</td>\n",
       "      <td>0.080248</td>\n",
       "      <td>0.091635</td>\n",
       "      <td>0.081519</td>\n",
       "      <td>0.082246</td>\n",
       "      <td>0.040410</td>\n",
       "      <td>0.093928</td>\n",
       "      <td>0.085770</td>\n",
       "      <td>...</td>\n",
       "      <td>0.027028</td>\n",
       "      <td>0.026178</td>\n",
       "      <td>0.026923</td>\n",
       "      <td>0.053561</td>\n",
       "      <td>0.046029</td>\n",
       "      <td>0.000000</td>\n",
       "      <td>0.026367</td>\n",
       "      <td>0.021920</td>\n",
       "      <td>0.047104</td>\n",
       "      <td>0.022439</td>\n",
       "    </tr>\n",
       "    <tr>\n",
       "      <th>2</th>\n",
       "      <td>0.145973</td>\n",
       "      <td>0.143014</td>\n",
       "      <td>0.111015</td>\n",
       "      <td>0.113687</td>\n",
       "      <td>0.114175</td>\n",
       "      <td>0.121850</td>\n",
       "      <td>0.114685</td>\n",
       "      <td>0.151418</td>\n",
       "      <td>0.105819</td>\n",
       "      <td>0.140187</td>\n",
       "      <td>...</td>\n",
       "      <td>0.055407</td>\n",
       "      <td>0.000000</td>\n",
       "      <td>0.046569</td>\n",
       "      <td>0.116678</td>\n",
       "      <td>0.149058</td>\n",
       "      <td>0.023719</td>\n",
       "      <td>0.064234</td>\n",
       "      <td>0.172848</td>\n",
       "      <td>0.038562</td>\n",
       "      <td>0.150153</td>\n",
       "    </tr>\n",
       "    <tr>\n",
       "      <th>3</th>\n",
       "      <td>0.070926</td>\n",
       "      <td>0.045203</td>\n",
       "      <td>0.093500</td>\n",
       "      <td>0.055699</td>\n",
       "      <td>0.063200</td>\n",
       "      <td>0.113949</td>\n",
       "      <td>0.106912</td>\n",
       "      <td>0.048646</td>\n",
       "      <td>0.066010</td>\n",
       "      <td>0.072146</td>\n",
       "      <td>...</td>\n",
       "      <td>0.006381</td>\n",
       "      <td>0.061717</td>\n",
       "      <td>0.000000</td>\n",
       "      <td>0.000000</td>\n",
       "      <td>0.000000</td>\n",
       "      <td>0.000000</td>\n",
       "      <td>0.000000</td>\n",
       "      <td>0.000000</td>\n",
       "      <td>0.000000</td>\n",
       "      <td>0.000000</td>\n",
       "    </tr>\n",
       "    <tr>\n",
       "      <th>4</th>\n",
       "      <td>0.228452</td>\n",
       "      <td>0.168169</td>\n",
       "      <td>0.143679</td>\n",
       "      <td>0.243058</td>\n",
       "      <td>0.148381</td>\n",
       "      <td>0.148269</td>\n",
       "      <td>0.128912</td>\n",
       "      <td>0.023275</td>\n",
       "      <td>0.224148</td>\n",
       "      <td>0.250761</td>\n",
       "      <td>...</td>\n",
       "      <td>0.028063</td>\n",
       "      <td>0.000000</td>\n",
       "      <td>0.000000</td>\n",
       "      <td>0.000000</td>\n",
       "      <td>0.000000</td>\n",
       "      <td>0.009647</td>\n",
       "      <td>0.000000</td>\n",
       "      <td>0.000000</td>\n",
       "      <td>0.000000</td>\n",
       "      <td>0.015983</td>\n",
       "    </tr>\n",
       "    <tr>\n",
       "      <th>...</th>\n",
       "      <td>...</td>\n",
       "      <td>...</td>\n",
       "      <td>...</td>\n",
       "      <td>...</td>\n",
       "      <td>...</td>\n",
       "      <td>...</td>\n",
       "      <td>...</td>\n",
       "      <td>...</td>\n",
       "      <td>...</td>\n",
       "      <td>...</td>\n",
       "      <td>...</td>\n",
       "      <td>...</td>\n",
       "      <td>...</td>\n",
       "      <td>...</td>\n",
       "      <td>...</td>\n",
       "      <td>...</td>\n",
       "      <td>...</td>\n",
       "      <td>...</td>\n",
       "      <td>...</td>\n",
       "      <td>...</td>\n",
       "      <td>...</td>\n",
       "    </tr>\n",
       "    <tr>\n",
       "      <th>95</th>\n",
       "      <td>0.330111</td>\n",
       "      <td>0.259713</td>\n",
       "      <td>0.300614</td>\n",
       "      <td>0.338429</td>\n",
       "      <td>0.218644</td>\n",
       "      <td>0.195021</td>\n",
       "      <td>0.253832</td>\n",
       "      <td>0.253520</td>\n",
       "      <td>0.313827</td>\n",
       "      <td>0.376419</td>\n",
       "      <td>...</td>\n",
       "      <td>0.078716</td>\n",
       "      <td>0.062131</td>\n",
       "      <td>0.064597</td>\n",
       "      <td>0.097439</td>\n",
       "      <td>0.112501</td>\n",
       "      <td>0.109309</td>\n",
       "      <td>0.111277</td>\n",
       "      <td>0.072206</td>\n",
       "      <td>0.044436</td>\n",
       "      <td>0.104123</td>\n",
       "    </tr>\n",
       "    <tr>\n",
       "      <th>96</th>\n",
       "      <td>0.262827</td>\n",
       "      <td>0.220885</td>\n",
       "      <td>0.197643</td>\n",
       "      <td>0.382890</td>\n",
       "      <td>0.257701</td>\n",
       "      <td>0.247012</td>\n",
       "      <td>0.264467</td>\n",
       "      <td>0.272442</td>\n",
       "      <td>0.225058</td>\n",
       "      <td>0.187384</td>\n",
       "      <td>...</td>\n",
       "      <td>0.139850</td>\n",
       "      <td>0.000000</td>\n",
       "      <td>0.146395</td>\n",
       "      <td>0.095709</td>\n",
       "      <td>0.103658</td>\n",
       "      <td>0.183453</td>\n",
       "      <td>0.272508</td>\n",
       "      <td>0.165032</td>\n",
       "      <td>0.025133</td>\n",
       "      <td>0.027145</td>\n",
       "    </tr>\n",
       "    <tr>\n",
       "      <th>97</th>\n",
       "      <td>0.157728</td>\n",
       "      <td>0.237232</td>\n",
       "      <td>0.149280</td>\n",
       "      <td>0.134930</td>\n",
       "      <td>0.144775</td>\n",
       "      <td>0.000000</td>\n",
       "      <td>0.093993</td>\n",
       "      <td>0.233828</td>\n",
       "      <td>0.222955</td>\n",
       "      <td>0.224181</td>\n",
       "      <td>...</td>\n",
       "      <td>0.180318</td>\n",
       "      <td>0.245167</td>\n",
       "      <td>0.346213</td>\n",
       "      <td>0.175338</td>\n",
       "      <td>0.169619</td>\n",
       "      <td>0.237813</td>\n",
       "      <td>0.065911</td>\n",
       "      <td>0.144279</td>\n",
       "      <td>0.000000</td>\n",
       "      <td>0.163262</td>\n",
       "    </tr>\n",
       "    <tr>\n",
       "      <th>98</th>\n",
       "      <td>0.270986</td>\n",
       "      <td>0.246109</td>\n",
       "      <td>0.311368</td>\n",
       "      <td>0.289007</td>\n",
       "      <td>0.148905</td>\n",
       "      <td>0.327890</td>\n",
       "      <td>0.211728</td>\n",
       "      <td>0.094774</td>\n",
       "      <td>0.196271</td>\n",
       "      <td>0.275515</td>\n",
       "      <td>...</td>\n",
       "      <td>0.070007</td>\n",
       "      <td>0.191295</td>\n",
       "      <td>0.196693</td>\n",
       "      <td>0.066211</td>\n",
       "      <td>0.000000</td>\n",
       "      <td>0.000000</td>\n",
       "      <td>0.119499</td>\n",
       "      <td>0.147440</td>\n",
       "      <td>0.152418</td>\n",
       "      <td>0.111899</td>\n",
       "    </tr>\n",
       "    <tr>\n",
       "      <th>99</th>\n",
       "      <td>0.136030</td>\n",
       "      <td>0.165218</td>\n",
       "      <td>0.000000</td>\n",
       "      <td>0.006496</td>\n",
       "      <td>0.352345</td>\n",
       "      <td>0.000000</td>\n",
       "      <td>0.163972</td>\n",
       "      <td>0.060918</td>\n",
       "      <td>0.041140</td>\n",
       "      <td>0.000000</td>\n",
       "      <td>...</td>\n",
       "      <td>0.000000</td>\n",
       "      <td>0.000000</td>\n",
       "      <td>0.000000</td>\n",
       "      <td>0.000000</td>\n",
       "      <td>0.000000</td>\n",
       "      <td>0.052956</td>\n",
       "      <td>0.000000</td>\n",
       "      <td>0.000000</td>\n",
       "      <td>0.000000</td>\n",
       "      <td>0.000000</td>\n",
       "    </tr>\n",
       "  </tbody>\n",
       "</table>\n",
       "<p>100 rows × 400 columns</p>\n",
       "</div>"
      ],
      "text/plain": [
       "         0         1         2         3         4         5         6    \\\n",
       "0   0.043069  0.040020  0.039191  0.040317  0.038809  0.061726  0.051463   \n",
       "1   0.052658  0.050776  0.060158  0.080248  0.091635  0.081519  0.082246   \n",
       "2   0.145973  0.143014  0.111015  0.113687  0.114175  0.121850  0.114685   \n",
       "3   0.070926  0.045203  0.093500  0.055699  0.063200  0.113949  0.106912   \n",
       "4   0.228452  0.168169  0.143679  0.243058  0.148381  0.148269  0.128912   \n",
       "..       ...       ...       ...       ...       ...       ...       ...   \n",
       "95  0.330111  0.259713  0.300614  0.338429  0.218644  0.195021  0.253832   \n",
       "96  0.262827  0.220885  0.197643  0.382890  0.257701  0.247012  0.264467   \n",
       "97  0.157728  0.237232  0.149280  0.134930  0.144775  0.000000  0.093993   \n",
       "98  0.270986  0.246109  0.311368  0.289007  0.148905  0.327890  0.211728   \n",
       "99  0.136030  0.165218  0.000000  0.006496  0.352345  0.000000  0.163972   \n",
       "\n",
       "         7         8         9    ...       390       391       392       393  \\\n",
       "0   0.056516  0.063033  0.054073  ...  0.159013  0.104357  0.144799  0.156466   \n",
       "1   0.040410  0.093928  0.085770  ...  0.027028  0.026178  0.026923  0.053561   \n",
       "2   0.151418  0.105819  0.140187  ...  0.055407  0.000000  0.046569  0.116678   \n",
       "3   0.048646  0.066010  0.072146  ...  0.006381  0.061717  0.000000  0.000000   \n",
       "4   0.023275  0.224148  0.250761  ...  0.028063  0.000000  0.000000  0.000000   \n",
       "..       ...       ...       ...  ...       ...       ...       ...       ...   \n",
       "95  0.253520  0.313827  0.376419  ...  0.078716  0.062131  0.064597  0.097439   \n",
       "96  0.272442  0.225058  0.187384  ...  0.139850  0.000000  0.146395  0.095709   \n",
       "97  0.233828  0.222955  0.224181  ...  0.180318  0.245167  0.346213  0.175338   \n",
       "98  0.094774  0.196271  0.275515  ...  0.070007  0.191295  0.196693  0.066211   \n",
       "99  0.060918  0.041140  0.000000  ...  0.000000  0.000000  0.000000  0.000000   \n",
       "\n",
       "         394       395       396       397       398       399  \n",
       "0   0.022028  0.171914  0.000000  0.004060  0.024480  0.014433  \n",
       "1   0.046029  0.000000  0.026367  0.021920  0.047104  0.022439  \n",
       "2   0.149058  0.023719  0.064234  0.172848  0.038562  0.150153  \n",
       "3   0.000000  0.000000  0.000000  0.000000  0.000000  0.000000  \n",
       "4   0.000000  0.009647  0.000000  0.000000  0.000000  0.015983  \n",
       "..       ...       ...       ...       ...       ...       ...  \n",
       "95  0.112501  0.109309  0.111277  0.072206  0.044436  0.104123  \n",
       "96  0.103658  0.183453  0.272508  0.165032  0.025133  0.027145  \n",
       "97  0.169619  0.237813  0.065911  0.144279  0.000000  0.163262  \n",
       "98  0.000000  0.000000  0.119499  0.147440  0.152418  0.111899  \n",
       "99  0.000000  0.052956  0.000000  0.000000  0.000000  0.000000  \n",
       "\n",
       "[100 rows x 400 columns]"
      ]
     },
     "execution_count": 74,
     "metadata": {},
     "output_type": "execute_result"
    }
   ],
   "source": [
    "pd.DataFrame(train_features)"
   ]
  },
  {
   "cell_type": "code",
   "execution_count": 76,
   "id": "c709752d",
   "metadata": {},
   "outputs": [
    {
     "name": "stderr",
     "output_type": "stream",
     "text": [
      "/home/nipun.batra/miniforge3/lib/python3.9/site-packages/sklearn/manifold/_t_sne.py:780: FutureWarning: The default initialization in TSNE will change from 'random' to 'pca' in 1.2.\n",
      "  warnings.warn(\n",
      "/home/nipun.batra/miniforge3/lib/python3.9/site-packages/sklearn/manifold/_t_sne.py:790: FutureWarning: The default learning rate in TSNE will change from 200.0 to 'auto' in 1.2.\n",
      "  warnings.warn(\n"
     ]
    },
    {
     "data": {
      "text/plain": [
       "Text(0.5, 1.0, 't-SNE of train features')"
      ]
     },
     "execution_count": 76,
     "metadata": {},
     "output_type": "execute_result"
    },
    {
     "data": {
      "image/png": "[encoded data removed]",
      "text/plain": [
       "<Figure size 800x800 with 2 Axes>"
      ]
     },
     "metadata": {
      "image/png": {
       "height": 681,
       "width": 626
      }
     },
     "output_type": "display_data"
    }
   ],
   "source": [
    "\n",
    "# Reduce dimensionality of features using t-SNE\n",
    "train_features_tsne = TSNE(n_components=2).fit_transform(train_features)\n",
    "\n",
    "# Plot features\n",
    "plt.figure(figsize=(8, 8))\n",
    "plt.scatter(train_features_tsne[:, 0], train_features_tsne[:, 1], c=train_labels, cmap='tab10')\n",
    "plt.colorbar()\n",
    "plt.title('t-SNE of train features')"
   ]
  },
  {
   "cell_type": "code",
   "execution_count": 77,
   "id": "c3415e92",
   "metadata": {},
   "outputs": [],
   "source": [
    "import torch.optim as optim\n",
    "\n",
    "criterion = nn.CrossEntropyLoss()\n",
    "optimizer = optim.Adam(net.parameters(), lr=0.001)\n"
   ]
  },
  {
   "cell_type": "code",
   "execution_count": 78,
   "id": "c7859a97",
   "metadata": {},
   "outputs": [
    {
     "name": "stderr",
     "output_type": "stream",
     "text": [
      "100%|██████████| 4/4 [00:02<00:00,  1.57it/s]\n"
     ]
    },
    {
     "name": "stdout",
     "output_type": "stream",
     "text": [
      "0 96 2.33\n"
     ]
    },
    {
     "name": "stderr",
     "output_type": "stream",
     "text": [
      "100%|██████████| 4/4 [00:02<00:00,  1.68it/s]\n"
     ]
    },
    {
     "name": "stdout",
     "output_type": "stream",
     "text": [
      "1 96 2.22\n"
     ]
    },
    {
     "name": "stderr",
     "output_type": "stream",
     "text": [
      "100%|██████████| 4/4 [00:02<00:00,  1.60it/s]\n"
     ]
    },
    {
     "name": "stdout",
     "output_type": "stream",
     "text": [
      "2 96 2.07\n"
     ]
    },
    {
     "name": "stderr",
     "output_type": "stream",
     "text": [
      "100%|██████████| 4/4 [00:02<00:00,  1.64it/s]\n"
     ]
    },
    {
     "name": "stdout",
     "output_type": "stream",
     "text": [
      "3 96 1.83\n"
     ]
    },
    {
     "name": "stderr",
     "output_type": "stream",
     "text": [
      "100%|██████████| 4/4 [00:02<00:00,  1.65it/s]\n"
     ]
    },
    {
     "name": "stdout",
     "output_type": "stream",
     "text": [
      "4 96 1.48\n"
     ]
    },
    {
     "name": "stderr",
     "output_type": "stream",
     "text": [
      " 50%|█████     | 2/4 [00:01<00:01,  1.58it/s]"
     ]
    }
   ],
   "source": [
    "batch_size = 32\n",
    "losses = []\n",
    "for epoch in range(15):\n",
    "    for i in tqdm(range(0, len(train_indices), batch_size)):\n",
    "        # get the inputs; data is a list of [inputs, labels]\n",
    "        inputs = torch.stack([ds_cifar[idx][0] for idx in train_indices[i:i+batch_size]])\n",
    "        labels = torch.tensor([ds_cifar[idx][1] for idx in train_indices[i:i+batch_size]])\n",
    "\n",
    "        # zero the parameter gradients\n",
    "        optimizer.zero_grad()\n",
    "\n",
    "        # forward + backward + optimize\n",
    "        outputs = net(inputs)\n",
    "        loss = criterion(outputs, labels)\n",
    "        \n",
    "        loss.backward()\n",
    "        optimizer.step()   \n",
    "    print(f\"{epoch} {i} {loss:0.2f}\")\n",
    "    losses.append(loss.item())"
   ]
  },
  {
   "cell_type": "code",
   "execution_count": 63,
   "id": "740cdb25",
   "metadata": {},
   "outputs": [
    {
     "data": {
      "text/plain": [
       "(50000, 10)"
      ]
     },
     "execution_count": 63,
     "metadata": {},
     "output_type": "execute_result"
    }
   ],
   "source": [
    "### CoreSet based Active Learning\n",
    "### Extract features from the last layer of the CNN\n",
    "\n",
    "net.eval()\n",
    "with torch.no_grad():\n",
    "    features = net(torch.stack([ds_cifar[idx][0] for idx in range(len(ds_cifar))])).numpy()\n",
    "\n",
    "features.shape"
   ]
  },
  {
   "cell_type": "code",
   "execution_count": null,
   "id": "554ccd98",
   "metadata": {},
   "outputs": [],
   "source": []
  }
 ],
 "metadata": {
  "kernelspec": {
   "display_name": "Python 3 (ipykernel)",
   "language": "python",
   "name": "python3"
  },
  "language_info": {
   "codemirror_mode": {
    "name": "ipython",
    "version": 3
   },
   "file_extension": ".py",
   "mimetype": "text/x-python",
   "name": "python",
   "nbconvert_exporter": "python",
   "pygments_lexer": "ipython3",
   "version": "3.9.7"
  }
 },
 "nbformat": 4,
 "nbformat_minor": 5
}
